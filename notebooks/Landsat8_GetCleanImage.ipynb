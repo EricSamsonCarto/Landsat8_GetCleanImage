{
 "cells": [
  {
   "cell_type": "markdown",
   "metadata": {},
   "source": [
    "# Find and Download Landsat 8 Cloudless images\n",
    "\n",
    "### - Place a marker somewhere on the map\n",
    "### - Choose the band combination and the date range\n",
    "### - Click the \"Get Image\" button. This will find the most cloud free image between your date range and display the image on the map\n",
    "### - Download a lower quality version of the image by clicking the \"Download Image\" button\n",
    "### - Access the image's full size source files in S3 AWS by clicking the \"Open Image Files\" button"
   ]
  },
  {
   "cell_type": "code",
   "execution_count": 1,
   "metadata": {},
   "outputs": [],
   "source": [
    "import ee\n",
    "import os\n",
    "import re\n",
   ]
  },
  
  {
   "cell_type": "code",
   "execution_count": 2,
   "metadata": {},
   "outputs": [],
   "source": [
    "import geemap\n"
   ]
  },
  
  {
   "cell_type": "code",
   "execution_count": 3,
   "metadata": {},
   "outputs": [],
   "source": [
    "import ipywidgets as widgets\n",
    "\n",
    "from datetime import datetime\n",
    "from ipyleaflet import LayersControl, DrawControl"
   ]
  },
  
  {
   "cell_type": "code",
   "execution_count": 4,
   "metadata": {},
   "outputs": [],
   "source": [
    "style = {'description_width': 'initial'}\n",
    "#band selection drop downs\n",
    "bands = widgets.Dropdown(\n",
    "    description='<b>Select RGB Combo:</b>',\n",
    "    options=['Natural Color 4/3/2','Natural With Atmospheric Removal 7/5/3', 'Color Infrared 5/4/3',\n",
    "             'False Color (Urban) 7/6/4','Agriculture 6/5/2', 'Atmospheric Penetration 7/6/5', \n",
    "             'Healthy Vegetation 5/6/2', 'Land/Water 5/6/4', 'Shortwave Infrared 7/5/4', 'Vegetation Analysis 6/5/4'],\n",
    "    value='Natural Color 4/3/2',\n",
    "    style=style\n",
    ")\n",
    "\n",
    "months =  ['January', 'February', 'March', 'April', 'May', 'June', 'July', \n",
    "           'August', 'September', 'October', 'November', 'December']\n",
    "days = [i for i in range(1, 32)]\n",
    "years = [i for i in range(2013, datetime.today().year + 1)]\n",
    "\n",
    "start_months_drop = widgets.Dropdown(\n",
    "    options=months,\n",
    "    description='<b>Start Date:</b>',\n",
    "    style=style,\n",
    ")\n",
    "\n",
    "start_days_drop = widgets.Dropdown(\n",
    "    options=days,\n",
    "    description='',\n",
    "    style=style,\n",
    ")\n",
    "\n",
    "start_year_drop = widgets.Dropdown(\n",
    "    options=years,\n",
    "    description='',\n",
    "    style=style,\n",
    ")\n",
    "\n",
    "end_months_drop = widgets.Dropdown(\n",
    "    options=months,\n",
    "    description='<b>End Date:</b>',\n",
    "    style=style,\n",
    ")\n",
    "\n",
    "end_days_drop = widgets.Dropdown(\n",
    "    options=days,\n",
    "    description='',\n",
    "    style=style,\n",
    ")\n",
    "\n",
    "end_year_drop = widgets.Dropdown(\n",
    "    options=years,\n",
    "    description='',\n",
    "    style=style,\n",
    ")\n",
    "\n",
    "box = widgets.HBox([bands, start_months_drop, start_days_drop, start_year_drop, end_months_drop,end_days_drop,end_year_drop])\n",
    "\n",
    "submit = widgets.Button(\n",
    "    description='Get Image',\n",
    "    button_style='primary',\n",
    "    tooltip='Click submit to find the Landsat 8 image',\n",
    "    style=style)\n",
    "\n",
    "download = widgets.Button(\n",
    "    description='Download Image',\n",
    "    button_style='primary',\n",
    "    tooltip='Click download',\n",
    "    style=style)\n",
    "\n",
    "download2 = widgets.Button(\n",
    "    description='Open Image Files',\n",
    "    button_style='primary',\n",
    "    tooltip='Click download2',\n",
    "    style=style)\n",
    "\n",
    "output = widgets.Output()\n",
    "\n",
    "download_box = widgets.HBox([download, download2])"
   ]
  },
  {
   "cell_type": "code",
   "execution_count": 5,
   "metadata": {},
   "outputs": [],
   "source": [
    "def landsat_lessCloudy(image):\n",
    "    with output:\n",
    "        output.clear_output()\n",
    "        #dates\n",
    "        start_date_string = \"{} {} {}\".format(start_months_drop.value,start_days_drop.value,start_year_drop.value)\n",
    "        try:\n",
    "            start_date = datetime.strptime(start_date_string, '%B %d %Y')\n",
    "        except ValueError:\n",
    "            print('Day is out of range for month')\n",
    "            return\n",
    "        \n",
    "        end_date_string = \"{} {} {}\".format(end_months_drop.value,end_days_drop.value,end_year_drop.value)\n",
    "        try:\n",
    "            end_date = datetime.strptime(end_date_string, '%B %d %Y')\n",
    "        except ValueError:\n",
    "            print('Day is out of range for month')\n",
    "            return\n",
    "        \n",
    "        if start_date >= end_date:\n",
    "            print('The end date must be the more recent date.')\n",
    "            return\n",
    "        try:\n",
    "            last_drawn_marker = coordinates_collection[-1]\n",
    "            coords = \", \".join(last_drawn_marker)\n",
    "        except:\n",
    "            print('You must place a point on the map for the tool to run.')\n",
    "            return\n",
    "        \n",
    "        #create coordinates\n",
    "        separate_xy = coords.split(',')\n",
    "        x = float(separate_xy[0])\n",
    "        y = float(separate_xy[1]) \n",
    "        \n",
    "        # input coordinates\n",
    "        point = ee.Geometry.Point(x, y)\n",
    "        \n",
    "        #create start and end date in correct format\n",
    "        startdate = start_date.strftime(\"%Y-%m-%d\")\n",
    "        enddate = end_date.strftime(\"%Y-%m-%d\")\n",
    "        \n",
    "        # start/end dates\n",
    "        start = ee.Date(startdate)\n",
    "        finish = ee.Date(enddate)\n",
    "\n",
    "        # raw collection\n",
    "        collection = ee.ImageCollection('LANDSAT/LC08/C01/T1')\n",
    "\n",
    "        # list by cloud cover\n",
    "        \n",
    "        filteredCollection = ee.ImageCollection('LANDSAT/LC08/C01/T1') \\\n",
    "            .filterBounds(point) \\\n",
    "            .filterDate(start, finish) \\\n",
    "            .sort('CLOUD_COVER', True)\n",
    "        \n",
    "        # get lowest percentage of cloud cover image\n",
    "        lesscloudsimage = filteredCollection.first()\n",
    "        \n",
    "        #Band Combination Choice\n",
    "        band_choice = bands.value\n",
    "        if band_choice == 'Natural Color 4/3/2':\n",
    "            Band_Combo = {'bands': ['B4',  'B3',  'B2'], 'min': 5000, 'max': 20000, 'gamma': 1}\n",
    "        elif band_choice == 'Natural With Atmospheric Removal 7/5/3':\n",
    "            Band_Combo = {'bands': ['B7',  'B5',  'B3'], 'min': 5000, 'max': 20000, 'gamma': 1}\n",
    "        elif band_choice == 'Color Infrared 5/4/3':\n",
    "            Band_Combo = {'bands': ['B5',  'B4',  'B3'], 'min': 5000, 'max': 20000, 'gamma': 1}  \n",
    "        elif band_choice == 'False Color (Urban) 7/6/4':\n",
    "            Band_Combo = {'bands': ['B7',  'B6',  'B4'], 'min': 5000, 'max': 20000, 'gamma': 1}\n",
    "        elif band_choice == 'Agriculture 6/5/2':\n",
    "            Band_Combo = {'bands': ['B6',  'B5',  'B2'], 'min': 5000, 'max': 20000, 'gamma': 1}\n",
    "        elif band_choice == 'Atmospheric Penetration 7/6/5':\n",
    "            Band_Combo = {'bands': ['B7',  'B6',  'B5'], 'min': 5000, 'max': 20000, 'gamma': 1}\n",
    "        elif band_choice == 'Healthy Vegetation 5/6/2':\n",
    "            Band_Combo = {'bands': ['B5',  'B6',  'B2'], 'min': 5000, 'max': 20000, 'gamma': 1}\n",
    "        elif band_choice == 'Land/Water 5/6/4':\n",
    "            Band_Combo = {'bands': ['B5',  'B6',  'B4'], 'min': 5000, 'max': 20000, 'gamma': 1}\n",
    "        elif band_choice == 'Shortwave Infrared 7/5/4':\n",
    "            Band_Combo = {'bands': ['B7',  'B5',  'B4'], 'min': 5000, 'max': 20000, 'gamma': 1}\n",
    "        elif band_choice == 'Vegetation Analysis 6/5/4':\n",
    "            Band_Combo = {'bands': ['B6',  'B5',  'B4'], 'min': 5000, 'max': 20000, 'gamma': 1}\n",
    "                                                 \n",
    "        Map.setCenter(x,y,8)\n",
    "        \n",
    "        if image == 'values':\n",
    "            return band_choice, lesscloudsimage \n",
    "             \n",
    "        try:\n",
    "            return Map.addLayer(lesscloudsimage, Band_Combo, 'Landsat_8_' + band_choice)\n",
    "        except:\n",
    "            print('No Landsat images return for the time period selected. Please adjust the dates and choose a wider temporal range.')\n",
    "            return\n",
    "               \n",
    "\n",
    "def landsat_image_download(x):\n",
    "    with output:\n",
    "        output.clear_output()\n",
    "        band_choice, lesscloudsimage = landsat_lessCloudy('values')\n",
    "        pattern = re.compile(r' \\d/\\d/\\d')\n",
    "        cleaned_bands = pattern.sub('', band_choice)\n",
    "\n",
    "        out_dir = os.path.join(os.path.expanduser('~'), 'Downloads')\n",
    "        if not os.path.exists(out_dir):\n",
    "            os.makedirs(out_dir)\n",
    "\n",
    "        filename = os.path.join(out_dir, cleaned_bands + '.tif')\n",
    "\n",
    "        geemap.ee_export_image(lesscloudsimage, filename=filename, scale=200)\n",
    "\n",
    "def get_landsat_info(x):\n",
    "     with output:\n",
    "        output.clear_output()\n",
    "        band_choice, lesscloudsimage = landsat_lessCloudy('values')\n",
    "        imag_props = geemap.image_props(lesscloudsimage)\n",
    "        json = imag_props.getInfo()\n",
    "        collection_num = json['system:id'].split('/')[2].replace('0', '').lower()\n",
    "        path = str(json['WRS_PATH']).zfill(3)\n",
    "        row = str(json['WRS_ROW']).zfill(3)\n",
    "        ID = json['LANDSAT_PRODUCT_ID']\n",
    "\n",
    "        link = r'https://landsat-pds.s3.amazonaws.com/{}/L8/{}/{}/{}/index.html'.format(collection_num, path, row, ID)\n",
    "        return print('Click on the following link to view and download to the Landsat 8 file collection: \\n' + link)\n",
    "\n",
    "submit.on_click(landsat_lessCloudy)\n",
    "download.on_click(landsat_image_download)\n",
    "download2.on_click(get_landsat_info)"
   ]
  },
  {
   "cell_type": "code",
   "execution_count": 6,
   "metadata": {},
   "outputs": [
    {
     "data": {
      "application/vnd.jupyter.widget-view+json": {
       "model_id": "f1f0b8c9730a401ab57b3f8f8aa307c1",
       "version_major": 2,
       "version_minor": 0
      },
      "text/plain": [
       "Map(center=[39.795006, -94.567394], controls=(ZoomControl(options=['position', 'zoom_in_text', 'zoom_in_title'…"
      ]
     },
     "metadata": {},
     "output_type": "display_data"
    }
   ],
   "source": [
    "Map = geemap.Map(lite_mode=True)\n",
    "Map.add_basemap(basemap='Esri Topo World')\n",
    "Map.setCenter(-94.567394, 39.795006, zoom=None)\n",
    "\n",
    "draw_control = DrawControl(\n",
    "    marker={\"shapeOptions\": {\"color\": \"#3388ff\"}},\n",
    "    polygon={},\n",
    "    polyline={},\n",
    "    circlemarker={},\n",
    "    edit=True, \n",
    "    remove=True,\n",
    ")\n",
    "\n",
    "coordinates_collection = []\n",
    "\n",
    "def handle_draw(target, action, geo_json):\n",
    "    find_coords = re.findall('-?\\d+[.]\\d+,\\s\\d+[.]\\d+', str(geo_json))\n",
    "    coordinates_collection.append(find_coords)\n",
    "\n",
    "control = LayersControl(position='topright')\n",
    "draw_control.on_draw(handle_draw)\n",
    "Map.add_control(control)\n",
    "Map.add_control(draw_control)\n",
    "Map.layout.width = '80%'\n",
    "Map.layout.height = '600px'\n",
    "Map"
   ]
  },
  {
   "cell_type": "code",
   "execution_count": 7,
   "metadata": {},
   "outputs": [
    {
     "data": {
      "application/vnd.jupyter.widget-view+json": {
       "model_id": "44858f87f5ea469c8a999f308a7b70fb",
       "version_major": 2,
       "version_minor": 0
      },
      "text/plain": [
       "HBox(children=(Dropdown(description='<b>Select RGB Combo:</b>', options=('Natural Color 4/3/2', 'Natural With …"
      ]
     },
     "metadata": {},
     "output_type": "display_data"
    }
   ],
   "source": [
    "box"
   ]
  },
  {
   "cell_type": "code",
   "execution_count": 8,
   "metadata": {},
   "outputs": [
    {
     "data": {
      "application/vnd.jupyter.widget-view+json": {
       "model_id": "540f612919f6457e92440372cba002e1",
       "version_major": 2,
       "version_minor": 0
      },
      "text/plain": [
       "Button(button_style='primary', description='Get Image', style=ButtonStyle(), tooltip='Click submit to find the…"
      ]
     },
     "metadata": {},
     "output_type": "display_data"
    }
   ],
   "source": [
    "submit"
   ]
  },
  {
   "cell_type": "code",
   "execution_count": 9,
   "metadata": {},
   "outputs": [
    {
     "data": {
      "application/vnd.jupyter.widget-view+json": {
       "model_id": "776b837df6de46c2bd64c0696f865cb2",
       "version_major": 2,
       "version_minor": 0
      },
      "text/plain": [
       "HBox(children=(Button(button_style='primary', description='Download Image', style=ButtonStyle(), tooltip='Clic…"
      ]
     },
     "metadata": {},
     "output_type": "display_data"
    }
   ],
   "source": [
    "download_box"
   ]
  },
  {
   "cell_type": "code",
   "execution_count": 10,
   "metadata": {},
   "outputs": [
    {
     "data": {
      "application/vnd.jupyter.widget-view+json": {
       "model_id": "15a36ce2183542df947c60d373578c15",
       "version_major": 2,
       "version_minor": 0
      },
      "text/plain": [
       "Output()"
      ]
     },
     "metadata": {},
     "output_type": "display_data"
    }
   ],
   "source": [
    "output"
   ]
  },
  {
   "cell_type": "code",
   "execution_count": null,
   "metadata": {},
   "outputs": [],
   "source": []
  },
  {
   "cell_type": "code",
   "execution_count": null,
   "metadata": {},
   "outputs": [],
   "source": []
  },
  {
   "cell_type": "code",
   "execution_count": null,
   "metadata": {},
   "outputs": [],
   "source": []
  }
 ],
 "metadata": {
  "kernelspec": {
   "display_name": "Python 3",
   "language": "python",
   "name": "python3"
  },
  "language_info": {
   "codemirror_mode": {
    "name": "ipython",
    "version": 3
   },
   "file_extension": ".py",
   "mimetype": "text/x-python",
   "name": "python",
   "nbconvert_exporter": "python",
   "pygments_lexer": "ipython3",
   "version": "3.8.2"
  }
 },
 "nbformat": 4,
 "nbformat_minor": 4
}
